{
 "cells": [
  {
   "cell_type": "markdown",
   "metadata": {},
   "source": [
    "# Simple card game: WAR\n",
    "### warmup for the milestone game - 02\n",
    "\n",
    "\n",
    "\n",
    "#### Classes to develop for the game\n",
    "\n",
    "- Card Class\n",
    "- Deck Class\n",
    "- Player Class\n",
    "- And Game Logic"
   ]
  },
  {
   "cell_type": "code",
   "execution_count": 41,
   "metadata": {},
   "outputs": [],
   "source": [
    "# card class\n",
    "# SUIT, RANK, INTEGER Value(three attribu)\n",
    "import random\n",
    "\n",
    "suits = ('Hearts', 'Diamonds', 'Spades', 'Clubs')\n",
    "ranks = ('Two', 'Three', 'Four', 'Five', 'Six', 'Seven', 'Eight', 'Nine', 'Ten',\n",
    "            'Jack', 'Queen', 'King', 'Ace')\n",
    "values = {'Two': 2, 'Three': 3, 'Four': 4, 'Five': 5, 'Six': 6, 'Seven': 7,\n",
    "            'Eight':8, 'Nine': 9, 'Ten': 10, 'Jack': 11, 'Queen': 12,\n",
    "             'King': 13, 'Ace': 14}\n",
    "\n"
   ]
  },
  {
   "cell_type": "code",
   "execution_count": 42,
   "metadata": {},
   "outputs": [],
   "source": [
    "\n",
    "class Card:\n",
    "\n",
    "    def __init__(self,suit,rank):\n",
    "\n",
    "        self.suit = suit\n",
    "        self.rank = rank\n",
    "        self.value = values[rank]\n",
    "    def __str__(self):\n",
    "        return self.rank + \" of \" + self.suit"
   ]
  },
  {
   "cell_type": "code",
   "execution_count": 43,
   "metadata": {},
   "outputs": [],
   "source": [
    "three_of_clubs = Card('Clubs','Three')"
   ]
  },
  {
   "cell_type": "code",
   "execution_count": 44,
   "metadata": {},
   "outputs": [
    {
     "data": {
      "text/plain": [
       "'Clubs'"
      ]
     },
     "execution_count": 44,
     "metadata": {},
     "output_type": "execute_result"
    }
   ],
   "source": [
    "three_of_clubs.suit"
   ]
  },
  {
   "cell_type": "code",
   "execution_count": 45,
   "metadata": {},
   "outputs": [
    {
     "data": {
      "text/plain": [
       "'Three'"
      ]
     },
     "execution_count": 45,
     "metadata": {},
     "output_type": "execute_result"
    }
   ],
   "source": [
    "three_of_clubs.rank"
   ]
  },
  {
   "cell_type": "code",
   "execution_count": 46,
   "metadata": {},
   "outputs": [
    {
     "data": {
      "text/plain": [
       "3"
      ]
     },
     "execution_count": 46,
     "metadata": {},
     "output_type": "execute_result"
    }
   ],
   "source": [
    "three_of_clubs.value"
   ]
  },
  {
   "cell_type": "code",
   "execution_count": 47,
   "metadata": {},
   "outputs": [],
   "source": [
    "two_hearts = Card(\"Hearts\", \"Two\")"
   ]
  },
  {
   "cell_type": "code",
   "execution_count": 48,
   "metadata": {},
   "outputs": [
    {
     "data": {
      "text/plain": [
       "<__main__.Card at 0x7f131c512970>"
      ]
     },
     "execution_count": 48,
     "metadata": {},
     "output_type": "execute_result"
    }
   ],
   "source": [
    "two_hearts"
   ]
  },
  {
   "cell_type": "code",
   "execution_count": 49,
   "metadata": {},
   "outputs": [
    {
     "name": "stdout",
     "output_type": "stream",
     "text": [
      "Two of Hearts\n"
     ]
    }
   ],
   "source": [
    "print(two_hearts)"
   ]
  },
  {
   "cell_type": "code",
   "execution_count": 50,
   "metadata": {},
   "outputs": [
    {
     "data": {
      "text/plain": [
       "'Two'"
      ]
     },
     "execution_count": 50,
     "metadata": {},
     "output_type": "execute_result"
    }
   ],
   "source": [
    "two_hearts.rank"
   ]
  },
  {
   "cell_type": "code",
   "execution_count": 51,
   "metadata": {},
   "outputs": [
    {
     "data": {
      "text/plain": [
       "'Hearts'"
      ]
     },
     "execution_count": 51,
     "metadata": {},
     "output_type": "execute_result"
    }
   ],
   "source": [
    "two_hearts.suit"
   ]
  },
  {
   "cell_type": "code",
   "execution_count": 52,
   "metadata": {},
   "outputs": [
    {
     "data": {
      "text/plain": [
       "True"
      ]
     },
     "execution_count": 52,
     "metadata": {},
     "output_type": "execute_result"
    }
   ],
   "source": [
    "two_hearts.value < three_of_clubs.value"
   ]
  },
  {
   "cell_type": "code",
   "execution_count": 56,
   "metadata": {},
   "outputs": [],
   "source": [
    "class Deck:\n",
    "\n",
    "    def __init__(self):\n",
    "        self.all_cards = []\n",
    "\n",
    "        for suit in suits:\n",
    "            for rank in ranks:\n",
    "                # Create the card object\n",
    "\n",
    "                created_card = Card(suit,rank)\n",
    "                self.all_cards.append(created_card)\n",
    "    def deal_one(self):\n",
    "        return self.all_cards.pop()    \n",
    "    def shuffle(self):\n",
    "        random.shuffle(self.all_cards)"
   ]
  },
  {
   "cell_type": "code",
   "execution_count": 57,
   "metadata": {},
   "outputs": [],
   "source": [
    "# Deck object creation: the deck will have all card 4*13 = 52 cards\n",
    "card_deck = Deck()"
   ]
  },
  {
   "cell_type": "code",
   "execution_count": 58,
   "metadata": {},
   "outputs": [
    {
     "data": {
      "text/plain": [
       "52"
      ]
     },
     "execution_count": 58,
     "metadata": {},
     "output_type": "execute_result"
    }
   ],
   "source": [
    "len(card_deck.all_cards)"
   ]
  },
  {
   "cell_type": "code",
   "execution_count": 59,
   "metadata": {},
   "outputs": [
    {
     "data": {
      "text/plain": [
       "[<__main__.Card at 0x7f131c300fa0>,\n",
       " <__main__.Card at 0x7f131c2978b0>,\n",
       " <__main__.Card at 0x7f131c2971f0>,\n",
       " <__main__.Card at 0x7f131c1cabb0>,\n",
       " <__main__.Card at 0x7f131c1cab50>,\n",
       " <__main__.Card at 0x7f131c1ca640>,\n",
       " <__main__.Card at 0x7f131c223730>,\n",
       " <__main__.Card at 0x7f131c223160>,\n",
       " <__main__.Card at 0x7f131c3e3c70>,\n",
       " <__main__.Card at 0x7f131c3e3e50>,\n",
       " <__main__.Card at 0x7f131c3e3f40>,\n",
       " <__main__.Card at 0x7f131c3e3670>,\n",
       " <__main__.Card at 0x7f131c3e3880>,\n",
       " <__main__.Card at 0x7f131c3e3760>,\n",
       " <__main__.Card at 0x7f131c3e3af0>,\n",
       " <__main__.Card at 0x7f131c3e3bb0>,\n",
       " <__main__.Card at 0x7f131c3e39a0>,\n",
       " <__main__.Card at 0x7f131c3e3ca0>,\n",
       " <__main__.Card at 0x7f131c3e38b0>,\n",
       " <__main__.Card at 0x7f131c3e3b50>,\n",
       " <__main__.Card at 0x7f131c3e3820>,\n",
       " <__main__.Card at 0x7f131c3e3700>,\n",
       " <__main__.Card at 0x7f131c3e3850>,\n",
       " <__main__.Card at 0x7f131c3e3f10>,\n",
       " <__main__.Card at 0x7f131c3e37f0>,\n",
       " <__main__.Card at 0x7f131c3e3970>,\n",
       " <__main__.Card at 0x7f131c3e3e20>,\n",
       " <__main__.Card at 0x7f131c3e3a00>,\n",
       " <__main__.Card at 0x7f131c3e3be0>,\n",
       " <__main__.Card at 0x7f131c3e3fd0>,\n",
       " <__main__.Card at 0x7f131c3e3c10>,\n",
       " <__main__.Card at 0x7f131c199d00>,\n",
       " <__main__.Card at 0x7f131c199460>,\n",
       " <__main__.Card at 0x7f131c199040>,\n",
       " <__main__.Card at 0x7f131c199670>,\n",
       " <__main__.Card at 0x7f131fdec0a0>,\n",
       " <__main__.Card at 0x7f131fdec820>,\n",
       " <__main__.Card at 0x7f131fdec3a0>,\n",
       " <__main__.Card at 0x7f131fdec970>,\n",
       " <__main__.Card at 0x7f131c1ecbb0>,\n",
       " <__main__.Card at 0x7f131c1ec5e0>,\n",
       " <__main__.Card at 0x7f131c1e6250>,\n",
       " <__main__.Card at 0x7f131c1e68e0>,\n",
       " <__main__.Card at 0x7f131c183dc0>,\n",
       " <__main__.Card at 0x7f131c183820>,\n",
       " <__main__.Card at 0x7f131c19cd00>,\n",
       " <__main__.Card at 0x7f131c19c940>,\n",
       " <__main__.Card at 0x7f131c3d4220>,\n",
       " <__main__.Card at 0x7f131c3d4910>,\n",
       " <__main__.Card at 0x7f131c3d42e0>,\n",
       " <__main__.Card at 0x7f131c3d47c0>,\n",
       " <__main__.Card at 0x7f131c3d43a0>]"
      ]
     },
     "execution_count": 59,
     "metadata": {},
     "output_type": "execute_result"
    }
   ],
   "source": [
    "card_deck.all_cards # it shows all the memory loaction of all cards"
   ]
  },
  {
   "cell_type": "code",
   "execution_count": 61,
   "metadata": {},
   "outputs": [
    {
     "name": "stdout",
     "output_type": "stream",
     "text": [
      "Two of Hearts\n"
     ]
    }
   ],
   "source": [
    "print(card_deck.all_cards[0]) # first card of the deck: before shuffle"
   ]
  },
  {
   "cell_type": "code",
   "execution_count": 62,
   "metadata": {},
   "outputs": [
    {
     "name": "stdout",
     "output_type": "stream",
     "text": [
      "Ace of Clubs\n"
     ]
    }
   ],
   "source": [
    "print(card_deck.all_cards[-1]) # last card of the deck: before shuffle"
   ]
  },
  {
   "cell_type": "code",
   "execution_count": 63,
   "metadata": {},
   "outputs": [],
   "source": [
    "# shuffoling the deck\n",
    "card_deck.shuffle()"
   ]
  },
  {
   "cell_type": "code",
   "execution_count": 65,
   "metadata": {},
   "outputs": [
    {
     "name": "stdout",
     "output_type": "stream",
     "text": [
      "Jack of Clubs\n"
     ]
    }
   ],
   "source": [
    "print(card_deck.all_cards[-1]) # last card of the deck: after shuffle"
   ]
  },
  {
   "cell_type": "code",
   "execution_count": 66,
   "metadata": {},
   "outputs": [
    {
     "name": "stdout",
     "output_type": "stream",
     "text": [
      "Queen of Hearts\n"
     ]
    }
   ],
   "source": [
    "print(card_deck.all_cards[0]) # first card of the deck: after shuffle"
   ]
  },
  {
   "cell_type": "code",
   "execution_count": null,
   "metadata": {},
   "outputs": [],
   "source": []
  }
 ],
 "metadata": {
  "kernelspec": {
   "display_name": "Python 3.9.7 ('base')",
   "language": "python",
   "name": "python3"
  },
  "language_info": {
   "codemirror_mode": {
    "name": "ipython",
    "version": 3
   },
   "file_extension": ".py",
   "mimetype": "text/x-python",
   "name": "python",
   "nbconvert_exporter": "python",
   "pygments_lexer": "ipython3",
   "version": "3.9.7"
  },
  "orig_nbformat": 4,
  "vscode": {
   "interpreter": {
    "hash": "b3d12a30c639c3a494e062d6c4cc70e232cb1c584d6a6e220e40135ff73d5b15"
   }
  }
 },
 "nbformat": 4,
 "nbformat_minor": 2
}
