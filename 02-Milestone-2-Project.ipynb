{
 "cells": [
  {
   "cell_type": "markdown",
   "metadata": {},
   "source": [
    "# Milestone Project-2: Blackjack Game "
   ]
  },
  {
   "cell_type": "code",
   "execution_count": 14,
   "metadata": {},
   "outputs": [],
   "source": [
    "# card class\n",
    "# SUIT, RANK, INTEGER Value(three attribu)\n",
    "import random\n",
    "\n",
    "suits = ('Hearts', 'Diamonds', 'Spades', 'Clubs')\n",
    "ranks = ('Two', 'Three', 'Four', 'Five', 'Six', 'Seven', 'Eight', 'Nine', 'Ten',\n",
    "            'Jack', 'Queen', 'King', 'Ace')\n",
    "values = {'Two': 2, 'Three': 3, 'Four': 4, 'Five': 5, 'Six': 6, 'Seven': 7,\n",
    "            'Eight':8, 'Nine': 9, 'Ten': 10, 'Jack': 10, 'Queen': 10,\n",
    "             'King': 10, 'Ace': 11}"
   ]
  },
  {
   "cell_type": "code",
   "execution_count": 15,
   "metadata": {},
   "outputs": [],
   "source": [
    "playing  = True"
   ]
  },
  {
   "cell_type": "code",
   "execution_count": 16,
   "metadata": {},
   "outputs": [],
   "source": [
    "class Card():\n",
    "\n",
    "    def __init__(self,suit,rank):\n",
    "\n",
    "        self.suit = suit\n",
    "        self.rank = rank\n",
    "        #self.value = values[rank]\n",
    "    def __str__(self):\n",
    "        return self.rank + \" of \" + self.suit"
   ]
  },
  {
   "cell_type": "code",
   "execution_count": 20,
   "metadata": {},
   "outputs": [],
   "source": [
    "class Deck:\n",
    "\n",
    "    def __init__(self):\n",
    "        self.deck = []\n",
    "\n",
    "        for suit in suits:\n",
    "            for rank in ranks:\n",
    "                # Create the card object\n",
    "\n",
    "                created_card = Card(suit,rank)\n",
    "                self.deck.append(created_card)\n",
    "    def __str__(self) -> str:\n",
    "        deck_comp = ''\n",
    "        for card in self.deck:\n",
    "            deck_comp += '\\n' + card.__str__()\n",
    "        return \"The deck has: \" + deck_comp\n",
    "    \n",
    "    def deal(self):\n",
    "        card = self.deck.pop()\n",
    "        return card    \n",
    "    \n",
    "    def shuffle(self):\n",
    "        random.shuffle(self.deck)"
   ]
  },
  {
   "cell_type": "code",
   "execution_count": 26,
   "metadata": {},
   "outputs": [],
   "source": [
    "class Hand():\n",
    "    def __init__(self) -> None:\n",
    "        self.cards = []\n",
    "        self.value = 0\n",
    "        self.aces = 0\n",
    "\n",
    "    def add_card(self, card):\n",
    "        self.cards.append(card)\n",
    "        self.value += values[card.rank]\n",
    "\n",
    "        if card.rank == 'Ace':\n",
    "            self.aces += 1\n",
    "    def adjust_for_ace(self):\n",
    "        \n",
    "        while self.value > 21 and self.aces:\n",
    "            self.value -= 10\n",
    "            self.aces -= 1"
   ]
  },
  {
   "cell_type": "code",
   "execution_count": 27,
   "metadata": {},
   "outputs": [],
   "source": [
    "class Chips():\n",
    "\n",
    "    def __init__(self, total = 100) -> None:\n",
    "        self.total = total\n",
    "        self.bet = 0\n",
    "    def win_bet(self):\n",
    "        self.total += self.bet\n",
    "    def lose_bet(self):\n",
    "        self.total -= self.bet"
   ]
  },
  {
   "cell_type": "code",
   "execution_count": 28,
   "metadata": {},
   "outputs": [],
   "source": [
    "def take_bet(chips):\n",
    "\n",
    "    while True:\n",
    "        \n",
    "        try:\n",
    "            chips.bet = int(input(\"How many chips would you like to bet? \"))\n",
    "        except:\n",
    "            print(\"Sorry please provide an integer number.\")\n",
    "        else:\n",
    "            if chips.bet > chips.total:\n",
    "                print(\"Sorry, you do not have enough chips! You have: {}\".format(chips.total))\n",
    "            else:\n",
    "                break\n"
   ]
  },
  {
   "cell_type": "code",
   "execution_count": 29,
   "metadata": {},
   "outputs": [],
   "source": [
    "def hit(deck, hand):\n",
    "\n",
    "    single_card = deck.deal()\n",
    "    hand.add_card(single_card)\n",
    "    hand.adjust_for_ace()\n",
    "\n"
   ]
  },
  {
   "cell_type": "code",
   "execution_count": 30,
   "metadata": {},
   "outputs": [],
   "source": [
    "def hit_or_stand(deck, hand):\n",
    "    global playing\n",
    "\n",
    "    while True:\n",
    "\n",
    "        x = input(\"Would you like to Hit or Stand? Enter 'h' or 's' \")\n",
    "\n",
    "        if x[0].lower() == 'h':\n",
    "            hit(deck, hand)\n",
    "        \n",
    "        elif x[0].lower() == 's':\n",
    "            print(\"Player stands. Dealer is playing.\")\n",
    "            playing = False\n",
    "        else:\n",
    "            print(\"Sorry, please try again.\")\n",
    "            continue\n",
    "        break"
   ]
  },
  {
   "cell_type": "code",
   "execution_count": null,
   "metadata": {},
   "outputs": [],
   "source": [
    "def show_some(player, dealer):\n",
    "    # Show only ONE of the dealer's cards\n",
    "    print(\"\\n Dealer's Hand: \")\n",
    "    print(\"First card hidden!\")\n",
    "    print(dealer.cards[1])\n",
    "    # Show all (2 cards) of the player's hand/ cards\n",
    "    print(\"\\n Player's hand: \")\n",
    "    for card in player.cards:\n",
    "        print(card)\n",
    "def show_all(player, dealer):\n",
    "\n",
    "    # show all the dealer's cards\n",
    "    print(\"\\n Dealer's hand: \")\n",
    "    for card in dealer.cards:\n",
    "        print(card)\n",
    "    # print(\"\\n Dealer's hand: \", *dealer.cards, sep='\\n')\n",
    "    # calculate and display value (J + K == 20)\n",
    "    print(f\"Value of Dealer's hand is : {dealer.value}\")\n",
    "    # show all the players cards\n",
    "    print(\"\\n Player's hand: \")\n",
    "    for card in player.cards:\n",
    "        print(card)\n",
    "    print(f\"Value of Player's hand is: {player.value}\")\n"
   ]
  }
 ],
 "metadata": {
  "kernelspec": {
   "display_name": "Python 3.9.7 ('base')",
   "language": "python",
   "name": "python3"
  },
  "language_info": {
   "codemirror_mode": {
    "name": "ipython",
    "version": 3
   },
   "file_extension": ".py",
   "mimetype": "text/x-python",
   "name": "python",
   "nbconvert_exporter": "python",
   "pygments_lexer": "ipython3",
   "version": "3.9.7"
  },
  "orig_nbformat": 4,
  "vscode": {
   "interpreter": {
    "hash": "b3d12a30c639c3a494e062d6c4cc70e232cb1c584d6a6e220e40135ff73d5b15"
   }
  }
 },
 "nbformat": 4,
 "nbformat_minor": 2
}
